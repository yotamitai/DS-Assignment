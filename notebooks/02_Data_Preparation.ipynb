{
 "cells": [
  {
   "metadata": {},
   "cell_type": "markdown",
   "source": "# Data Cleaning",
   "id": "5205857db9a389a3"
  },
  {
   "metadata": {
    "ExecuteTime": {
     "end_time": "2024-08-01T11:33:58.214012Z",
     "start_time": "2024-08-01T11:33:58.132459Z"
    }
   },
   "cell_type": "code",
   "source": [
    "import numpy as np\n",
    "import pandas as pd\n",
    "from scipy import stats\n",
    "import pyarrow.feather as feather\n",
    "import warnings\n",
    "from sklearn.model_selection import train_test_split\n",
    "from sklearn.linear_model import LinearRegression\n",
    "from sklearn.metrics import mean_squared_error, r2_score\n",
    "from sklearn.preprocessing import StandardScaler\n",
    "\n",
    "warnings.filterwarnings('ignore', category=RuntimeWarning)"
   ],
   "id": "fe19b4c78abc5b92",
   "outputs": [],
   "execution_count": 1
  },
  {
   "metadata": {
    "ExecuteTime": {
     "end_time": "2024-08-01T11:34:01.217558Z",
     "start_time": "2024-08-01T11:33:58.319787Z"
    }
   },
   "cell_type": "code",
   "source": [
    "\"\"\"load dataset\"\"\"\n",
    "file_path = 'train_data.feather'\n",
    "data = feather.read_feather(file_path)\n",
    "data.shape"
   ],
   "id": "255a347d68fb8895",
   "outputs": [
    {
     "data": {
      "text/plain": [
       "(567614, 881)"
      ]
     },
     "execution_count": 2,
     "metadata": {},
     "output_type": "execute_result"
    }
   ],
   "execution_count": 2
  },
  {
   "metadata": {
    "ExecuteTime": {
     "end_time": "2024-08-01T11:34:03.375958Z",
     "start_time": "2024-08-01T11:34:01.873314Z"
    }
   },
   "cell_type": "code",
   "source": [
    "\"\"\"Sample\"\"\"\n",
    "df = data.sample(frac=0.2, random_state=42)\n",
    "print(df.shape)"
   ],
   "id": "1b3a0a4038d735e2",
   "outputs": [
    {
     "name": "stdout",
     "output_type": "stream",
     "text": [
      "(113523, 881)\n"
     ]
    }
   ],
   "execution_count": 3
  },
  {
   "metadata": {
    "ExecuteTime": {
     "end_time": "2024-08-01T11:34:09.293228Z",
     "start_time": "2024-08-01T11:34:09.289124Z"
    }
   },
   "cell_type": "code",
   "source": [
    "\"\"\"Transform target ot log scale\"\"\"\n",
    "df['TLJYWBE'] = np.log(df['TLJYWBE'])\n",
    "print(\"Target Transformed to log scale\")"
   ],
   "id": "4beb173b08c5c599",
   "outputs": [
    {
     "name": "stdout",
     "output_type": "stream",
     "text": [
      "Target Transformed to log scale\n"
     ]
    }
   ],
   "execution_count": 4
  },
  {
   "metadata": {
    "ExecuteTime": {
     "end_time": "2024-08-01T11:34:11.689876Z",
     "start_time": "2024-08-01T11:34:11.091117Z"
    }
   },
   "cell_type": "code",
   "source": [
    "\"\"\"remove empty columns\"\"\"\n",
    "empty = df.columns[df.isna().all()]\n",
    "df.drop(columns=empty, inplace=True)\n",
    "print(f\"Empty columns dropped: {len(empty)}\")"
   ],
   "id": "ad229f17ffa4d94b",
   "outputs": [
    {
     "name": "stdout",
     "output_type": "stream",
     "text": [
      "Empty columns dropped: 44\n"
     ]
    }
   ],
   "execution_count": 5
  },
  {
   "metadata": {
    "ExecuteTime": {
     "end_time": "2024-08-01T11:34:24.135276Z",
     "start_time": "2024-08-01T11:34:13.552957Z"
    }
   },
   "cell_type": "code",
   "source": [
    "\"\"\"Handeling object columns\"\"\"\n",
    "df.replace('nan', np.nan, inplace=True)\n",
    "obj_cols_to_lower = df.select_dtypes(include='object').nunique().loc[lambda x: x <= 10].index\n",
    "df[obj_cols_to_lower] = df[obj_cols_to_lower].apply(lambda x: x.str.lower())\n",
    "binary_col, cat_col = [], []\n",
    "binary_map = {'true': 1, 'false': 0, np.nan: np.nan}\n",
    "for c in obj_cols_to_lower:\n",
    "    unique_values = df[c].dropna().unique()\n",
    "    num_unique_values = len(unique_values)\n",
    "    if num_unique_values == 2 or (\n",
    "            num_unique_values == 3 and set(unique_values) == {'true', 'false'}):\n",
    "        df[c] = df[c].map(binary_map)\n",
    "        df[c] = pd.to_numeric(df[c], errors='coerce').astype('Int64')\n",
    "        binary_col.append(c)\n",
    "    else:\n",
    "        dummy_columns = pd.get_dummies(df[c], dummy_na=True, prefix=c)\n",
    "        df = pd.concat([df, dummy_columns], axis=1)\n",
    "        df.drop(c, axis=1, inplace=True)\n",
    "\n",
    "\"\"\"convert other object columns to numerical\"\"\"\n",
    "for c in df.select_dtypes(include=[object]).columns:\n",
    "    df[c] = pd.to_numeric(df[c], errors='coerce')\n",
    "\n",
    "df.info()"
   ],
   "id": "4c00c72126a268b6",
   "outputs": [
    {
     "name": "stdout",
     "output_type": "stream",
     "text": [
      "<class 'pandas.core.frame.DataFrame'>\n",
      "Index: 113523 entries, 658196 to 28028\n",
      "Columns: 857 entries, HKTLMYY to ZHPRSBN_nan\n",
      "dtypes: bool(40), float64(774), int64(43)\n",
      "memory usage: 712.8 MB\n"
     ]
    }
   ],
   "execution_count": 6
  },
  {
   "metadata": {
    "ExecuteTime": {
     "end_time": "2024-08-01T11:34:24.359603Z",
     "start_time": "2024-08-01T11:34:24.136504Z"
    }
   },
   "cell_type": "code",
   "source": [
    "\"\"\"Remove columns with more than 30% missing values\"\"\"\n",
    "missing_cols = list(df.columns[df.isnull().mean() > 0.3])\n",
    "df.drop(columns=missing_cols, inplace=True)\n",
    "print(f\"Columns with more than 30% missing values dropped: {len(missing_cols)}\")\n",
    "df.shape"
   ],
   "id": "8ebd999f59803cf",
   "outputs": [
    {
     "name": "stdout",
     "output_type": "stream",
     "text": [
      "Columns with more than 30% missing values dropped: 90\n"
     ]
    },
    {
     "data": {
      "text/plain": [
       "(113523, 767)"
      ]
     },
     "execution_count": 7,
     "metadata": {},
     "output_type": "execute_result"
    }
   ],
   "execution_count": 7
  },
  {
   "metadata": {
    "ExecuteTime": {
     "end_time": "2024-08-01T11:34:25.669786Z",
     "start_time": "2024-08-01T11:34:24.360580Z"
    }
   },
   "cell_type": "code",
   "source": [
    "\"\"\"zero Variance\"\"\"\n",
    "# Create masks for conditions\n",
    "cols = df.columns\n",
    "zero_std_mask = df[cols].std() == 0\n",
    "count_mask = df[cols].count() == df.shape[0]\n",
    "zero_std_all = cols[zero_std_mask & count_mask].tolist()\n",
    "zero_std = cols[zero_std_mask & ~count_mask].tolist()\n",
    "for c in zero_std:\n",
    "    val = df[c].mode()[0]\n",
    "    df[c] = df[c].fillna(0)\n",
    "    df[c] = (df[c] == val).astype(bool)\n",
    "df.drop(columns=zero_std_all, inplace=True)\n",
    "print(f\"Zero Variance columns dropped: {len(zero_std_all)}\")\n",
    "df.shape"
   ],
   "id": "156f5eb95a7c2b1f",
   "outputs": [
    {
     "name": "stdout",
     "output_type": "stream",
     "text": [
      "Zero Variance columns dropped: 37\n"
     ]
    },
    {
     "data": {
      "text/plain": [
       "(113523, 730)"
      ]
     },
     "execution_count": 8,
     "metadata": {},
     "output_type": "execute_result"
    }
   ],
   "execution_count": 8
  },
  {
   "metadata": {
    "ExecuteTime": {
     "end_time": "2024-08-01T11:34:26.565091Z",
     "start_time": "2024-08-01T11:34:25.671434Z"
    }
   },
   "cell_type": "code",
   "source": [
    "\"\"\"Boolean columns\"\"\"\n",
    "bool_cols = df.columns[df.nunique(dropna=True) == 2]\n",
    "for col in bool_cols:\n",
    "    unique_vals = df[col].dropna().unique()\n",
    "    mapping = {unique_vals[0]: False, unique_vals[1]: True}\n",
    "    df[col] = df[col].map(mapping).astype(bool)\n",
    "print(\"Boolean cols: \", len(bool_cols))"
   ],
   "id": "5f0a3190a816802d",
   "outputs": [
    {
     "name": "stdout",
     "output_type": "stream",
     "text": [
      "Boolean cols:  53\n"
     ]
    }
   ],
   "execution_count": 9
  },
  {
   "metadata": {
    "ExecuteTime": {
     "end_time": "2024-08-01T11:34:29.350684Z",
     "start_time": "2024-08-01T11:34:26.565991Z"
    }
   },
   "cell_type": "code",
   "source": [
    "\"\"\"Outliers in Normal distribution\"\"\"\n",
    "normal_cols = []\n",
    "non_bool_cols = df.select_dtypes(include=['float64', 'int64']).columns\n",
    "for column in non_bool_cols:\n",
    "    data = df[column].dropna()\n",
    "    if len(data) > 7:\n",
    "        stat, p = stats.normaltest(data)\n",
    "        if p > 0.05:\n",
    "            normal_cols.append(column)\n",
    "\n",
    "mask = pd.Series(True, index=df.index)\n",
    "means = df[normal_cols].mean()\n",
    "std_devs = df[normal_cols].std()\n",
    "for col in normal_cols:\n",
    "    col_mask = ((df[col] >= means[col] - 3 * std_devs[col]) &\n",
    "                (df[col] <= means[col] + 3 * std_devs[col]))\n",
    "    mask &= col_mask\n",
    "\n",
    "print(\"Outliers dropped:\", len(df.index[~mask]))\n",
    "df.drop(df.index[~mask], inplace=True)"
   ],
   "id": "b4329abc0b06a3a",
   "outputs": [
    {
     "name": "stdout",
     "output_type": "stream",
     "text": [
      "Outliers dropped: 871\n"
     ]
    }
   ],
   "execution_count": 10
  },
  {
   "metadata": {
    "ExecuteTime": {
     "end_time": "2024-08-01T11:34:43.221131Z",
     "start_time": "2024-08-01T11:34:40.618115Z"
    }
   },
   "cell_type": "code",
   "source": [
    "\"\"\"standardizing numeric data\"\"\"\n",
    "# Identify non-boolean columns\n",
    "df_scaled = df.copy()\n",
    "non_bool_columns = df_scaled.select_dtypes(exclude=['bool']).columns\n",
    "scaler = StandardScaler()\n",
    "# Apply StandardScaler to non-boolean columns\n",
    "df_scaled[non_bool_columns] = scaler.fit_transform(df_scaled[non_bool_columns])"
   ],
   "id": "da0be885b99b75d1",
   "outputs": [],
   "execution_count": 11
  },
  {
   "metadata": {
    "ExecuteTime": {
     "end_time": "2024-08-01T11:35:04.304732Z",
     "start_time": "2024-08-01T11:34:46.602320Z"
    }
   },
   "cell_type": "code",
   "source": [
    "\"\"\"Impute missing values\"\"\"\n",
    "from sklearn.impute import SimpleImputer\n",
    "\n",
    "imputer = SimpleImputer(strategy='median')\n",
    "print(\"number of missing values:\", df.isnull().sum().sum())\n",
    "df_imputed = pd.DataFrame(imputer.fit_transform(df_scaled), columns=df_scaled.columns)\n",
    "\n",
    "# Check if any missing values remain\n",
    "print(\"remaining missing value:\", df_imputed.isnull().sum().max())"
   ],
   "id": "8b160d625c64445f",
   "outputs": [
    {
     "name": "stdout",
     "output_type": "stream",
     "text": [
      "number of missing values: 510775\n",
      "remaining missing value: 0\n"
     ]
    }
   ],
   "execution_count": 12
  },
  {
   "metadata": {
    "ExecuteTime": {
     "end_time": "2024-08-01T11:36:04.294789Z",
     "start_time": "2024-08-01T11:35:04.305763Z"
    }
   },
   "cell_type": "code",
   "source": [
    "duplicates = set()\n",
    "# Compare each column against all others\n",
    "for i in range(df_imputed.shape[1]):\n",
    "    col1 = df_imputed.iloc[:, i]\n",
    "    for j in range(i + 1, df_imputed.shape[1]):\n",
    "        col2 = df_imputed.iloc[:, j]\n",
    "        if col1.equals(col2):\n",
    "            duplicates.add(df_imputed.columns[j])\n",
    "\n",
    "# Drop the duplicate columns\n",
    "df_reduced = df_imputed.drop(columns=list(duplicates))\n",
    "df_reduced.shape"
   ],
   "id": "dfb914fa15f9b812",
   "outputs": [
    {
     "data": {
      "text/plain": [
       "(112652, 672)"
      ]
     },
     "execution_count": 13,
     "metadata": {},
     "output_type": "execute_result"
    }
   ],
   "execution_count": 13
  },
  {
   "metadata": {},
   "cell_type": "markdown",
   "source": "# Final features (selection process below)",
   "id": "855c81367d9ed725"
  },
  {
   "metadata": {
    "ExecuteTime": {
     "end_time": "2024-08-01T11:46:43.793680Z",
     "start_time": "2024-08-01T11:46:43.669036Z"
    }
   },
   "cell_type": "code",
   "source": [
    "\"\"\"final feature selected\"\"\"\n",
    "selected_cols = ['MSAHYEA', 'DJANPLY', 'LJWUXOV', 'VZOZKWX', 'MRUWBZT', 'DVSZBLN', 'DMTXDGF',\n",
    "                 'SJZKEVZ', 'PRVIFOQ', 'VMWDQGF', 'UNFEABR', 'HKTLMYY', 'XIRNYHK', 'OOASVXJ',\n",
    "                 'FXACWUA', 'KDQUJOB', 'KPQSPBC', 'XEUMIIT', 'DUOKWOI', 'STMKCSJ', 'WLULXFN',\n",
    "                 'AVSMOFQ', 'CNGIUEP', 'LKFNGDB', 'LLZRQRY', 'NYWUAUO', 'LGVRVXB', 'CMSGVTL',\n",
    "                 'EULURHL', 'NSERJIK', 'WGQRBHJ', 'SBUETBP', 'DDGIRQA', 'JIOWSAX', 'EYILHOU',\n",
    "                 'FFJOGRA', 'FPBFOEB', 'JEKQIKE', 'VYTOISY', 'AIKOJYC', 'AHVIXII', 'RTVQHPO',\n",
    "                 'HFYZKSZ', 'YLHQTEA', 'LCAOHWW', 'AWMGPPL', 'IIYLALO', 'SRQKQTX', 'JNEVNAR',\n",
    "                 'HWKCDPO', 'UTGKBXG', 'NIVQSOG', 'TPUASCQ', 'FCMPHJR', 'BYEQVGG', 'LLHXSPF',\n",
    "                 'PDWQQDP', 'LQEHWDR', 'VFXSABJ', 'DTJITAO', 'DAEPCOR', 'OFEEPAC', 'RNKJCEN',\n",
    "                 'AYAJVQL', 'KPZEEJR', 'MOSECGI', 'XLVHGLO', 'DXWRFDA', 'JTIJWNL', 'AKUNFFN',\n",
    "                 'KPXMEBJ', 'GBGZJZO', 'GRBGIZR', 'KNFIDTO', 'UOGNHSF', 'PSXOLCG', 'FAIOOOV',\n",
    "                 'UHMRZHI', 'FBBFYZM', 'SQODRRP', 'NAWMDDT', 'MDBYIRV', 'SPKCFPP', 'BGDAMPC',\n",
    "                 'DANYGJI', 'OXRCIYW', 'IKMWIOV', 'MQXCIBE', 'OOVNYOI', 'LTCKGYN', 'HBQPQTD',\n",
    "                 'SDEUDHY', 'BHSHCHU', 'DDPBVDN', 'JIWJHVI', 'ZRYDRXT', 'GOBJALH', 'LOGULZS',\n",
    "                 'ARVLGNZ', 'MWHYOSB', 'JMFGDPB', 'IHCEXCN', 'GQHLWWM', 'AWJPBPO', 'AGTCLZR',\n",
    "                 'AEXRRBM', 'OGYQNUB', 'APJFLOK', 'GKACPXS', 'JWXNCNT', 'FUTFIRO', 'ENIRWLT',\n",
    "                 'NVBZJEU', 'BGHDMAS', 'TKQUNLP', 'RIEVFEX', 'QASZGHA', 'MRBOALK', 'DNHHKRL',\n",
    "                 'ZKXMWHB', 'SMHHBFH', 'EDASGHM', 'RCJGZLT', 'UZGUYFK', 'LCFCVCB', 'VEUJYWN',\n",
    "                 'IJRFPEK', 'UMJYMGD', 'XWQPLHB', 'ITWTNIT', 'VTMSCPQ', 'DPPXTGF', 'BGPVFMN',\n",
    "                 'KEJOIIS', 'HOVFLAR', 'HIFPGGQ', 'ZYMFJDH', 'WLFAYHX', 'NGVHWDO', 'HCSXZKW',\n",
    "                 'JYSKSPX', 'OKIKPOJ', 'KGJACPV', 'XJJAKPY', 'CWLCCPL', 'HHSFOPV', 'ONKWSSO',\n",
    "                 'GVDVKJH', 'KXISVUL', 'MUEKGHC', 'YCJYNVQ', 'HEBFRRA', 'KYRXYOZ', 'OADGFBJ',\n",
    "                 'MKHJGMF', 'JIMYAME', 'ULYIQYO', 'VPAZKWG', 'BEUAZOI', 'TPYJDFW', 'UXZNNNB',\n",
    "                 'QODSZMV', 'GUEUYTS', 'HSCCVTR', 'LBMUJNZ', 'BQLPPBV', 'RLHGEVY', 'ZCRFMLI',\n",
    "                 'JOJRNMZ', 'IHLMFTI', 'OPBTWFJ', 'NQQYONU', 'ZPBDTHO', 'QWVFRRZ', 'GYFZSXY',\n",
    "                 'POUQMMG', 'FWILIBF', 'ALKYTAY', 'IWHIYNA', 'HPCWOKU', 'NYRKOCF', 'JUMKXBC',\n",
    "                 'LVMHJCI', 'VCPMKTP', 'KUXSPYJ', 'OULTOYT', 'ACVSDTK', 'HCBDBBS', 'RQTEIMY',\n",
    "                 'DTSZUFG', 'JORKKSF', 'CQZHXYY', 'RAGOFAC', 'RIEGYBR', 'NTYHQRF', 'NGIJPET',\n",
    "                 'ZMEJKZD', 'UEIYMWS', 'RSQGZAF', 'TTQVFLL', 'DDZYPGM', 'WBCMBKW', 'VOHXBZJ',\n",
    "                 'UZPPCUZ', 'WTMETCB', 'VRNGUZU', 'PAIOUXI', 'PZYGETW', 'OYSQKAH', 'NMWUWJL',\n",
    "                 'ACEFRZA', 'VXWAKJT', 'CWWUCQG', 'MHLQVAB', 'NDWFVEZ', 'MIIVLBT', 'PPNLAEY',\n",
    "                 'XLHIYUD', 'KBNVGJL', 'UJTXHTS', 'UJYQCMY', 'TLJYWBE']\n",
    "\n",
    "df_selected = df_reduced[selected_cols].copy()\n",
    "\n",
    "significant_interactions = ['IKMWIOV_APJFLOK', 'IKMWIOV_KNFIDTO', 'IKMWIOV_ACEFRZA',\n",
    "                            'OOASVXJ_AIKOJYC', 'AKUNFFN_AIKOJYC',\n",
    "                            'IKMWIOV_QASZGHA', 'ALKYTAY_AIKOJYC', 'IKMWIOV_LLZRQRY',\n",
    "                            'FFJOGRA_AIKOJYC', 'AIKOJYC_ACEFRZA', 'AVSMOFQ_AKUNFFN']\n",
    "\n",
    "for pair in significant_interactions:\n",
    "    i, j = pair.split('_')\n",
    "    df_selected[pair] = df_selected.eval(f'{i} * {j}')\n",
    "df_selected.shape"
   ],
   "id": "951f5d5146150a4c",
   "outputs": [
    {
     "data": {
      "text/plain": [
       "(112652, 232)"
      ]
     },
     "execution_count": 25,
     "metadata": {},
     "output_type": "execute_result"
    }
   ],
   "execution_count": 25
  },
  {
   "metadata": {
    "ExecuteTime": {
     "end_time": "2024-07-31T19:11:19.299163Z",
     "start_time": "2024-07-31T19:11:18.522826Z"
    }
   },
   "cell_type": "code",
   "source": [
    "\"\"\"save results\"\"\"\n",
    "new_name = file_path.replace('.feather', '_processed.feather')\n",
    "df_selected.to_feather(new_name)\n",
    "print(f\"file saved  - {new_name}\")"
   ],
   "id": "e67506e2156f4669",
   "outputs": [
    {
     "name": "stdout",
     "output_type": "stream",
     "text": [
      "file saved  - train_data_processed.feather\n"
     ]
    }
   ],
   "execution_count": 19
  },
  {
   "metadata": {},
   "cell_type": "markdown",
   "source": "# Feature selection process",
   "id": "5a56a36d27237ca"
  },
  {
   "metadata": {},
   "cell_type": "code",
   "source": "df_reduced.to_feather(\"after_duplicates_01.feather\")",
   "id": "2dd6c14791c0ca7",
   "outputs": [],
   "execution_count": null
  },
  {
   "metadata": {},
   "cell_type": "code",
   "source": [
    "df_reduced = feather.read_feather(\"train_data.feather\")\n",
    "df_reduced.shape"
   ],
   "id": "85e72cbae80c5311",
   "outputs": [],
   "execution_count": null
  },
  {
   "metadata": {},
   "cell_type": "code",
   "source": [
    "def test_baseline(df):\n",
    "    \"\"\"baseline model\"\"\"\n",
    "    X = df.drop(columns=['TLJYWBE'])\n",
    "    y = df['TLJYWBE']\n",
    "    X_train, X_val, y_train, y_val = train_test_split(X, y, test_size=0.2, random_state=42)\n",
    "\n",
    "    linear_model = LinearRegression()\n",
    "    linear_model.fit(X_train, y_train)\n",
    "    y_val_pred = linear_model.predict(X_val)\n",
    "\n",
    "    # evaluation\n",
    "    mse = mean_squared_error(y_val, y_val_pred)\n",
    "    r2 = r2_score(y_val, y_val_pred)\n",
    "\n",
    "    print(mse, r2)\n",
    "\n",
    "\n",
    "def test_xgb(df):\n",
    "    X = df.drop(columns=['TLJYWBE'])\n",
    "    y = df['TLJYWBE']\n",
    "    X_train, X_val, y_train, y_val = train_test_split(X, y, test_size=0.2, random_state=42)\n",
    "    model = xgb.XGBRegressor(random_state=42)\n",
    "    model.fit(X_train, y_train)\n",
    "    y_pred = model.predict(X_val)\n",
    "\n",
    "    # Evaluate the model\n",
    "    mse = mean_squared_error(y_val, y_pred)\n",
    "    r2 = r2_score(y_val, y_pred)\n",
    "\n",
    "    print(mse, r2)"
   ],
   "id": "d1ac1433e9259fb1",
   "outputs": [],
   "execution_count": null
  },
  {
   "metadata": {
    "ExecuteTime": {
     "end_time": "2024-08-01T11:38:25.723185Z",
     "start_time": "2024-08-01T11:36:43.748176Z"
    }
   },
   "cell_type": "code",
   "source": [
    "\"\"\"Feature selection by correlation - filter method\"\"\"\n",
    "correlations = df_reduced.corr()['TLJYWBE'].sort_values()\n",
    "selected_features = correlations[abs(correlations) > 0.01].index.tolist()\n",
    "selected_features.remove('TLJYWBE')\n",
    "\n",
    "print(\"num selected features:\", len(selected_features))\n",
    "df_ft_corr = df_reduced[selected_features + ['TLJYWBE']]\n",
    "print(df_ft_corr.shape)"
   ],
   "id": "98876e9e38cf9207",
   "outputs": [
    {
     "name": "stdout",
     "output_type": "stream",
     "text": [
      "num selected features: 459\n",
      "(112652, 460)\n"
     ]
    }
   ],
   "execution_count": 14
  },
  {
   "metadata": {
    "ExecuteTime": {
     "end_time": "2024-08-01T11:44:54.645710Z",
     "start_time": "2024-08-01T11:44:43.097843Z"
    }
   },
   "cell_type": "code",
   "source": [
    "\"\"\"Further feature selection - model-based method\"\"\"\n",
    "import xgboost as xgb\n",
    "\n",
    "X = df_ft_corr.drop(columns=['TLJYWBE'])\n",
    "y = df_ft_corr['TLJYWBE']\n",
    "xg_reg = xgb.XGBRegressor(n_estimators=100, random_state=42)\n",
    "xg_reg.fit(X, y)\n",
    "xg_feature_importances = xg_reg.feature_importances_\n",
    "xg_important_features = pd.Series(xg_feature_importances,\n",
    "                                  index=X.columns).sort_values(ascending=False)\n",
    "\n",
    "xg_features = list(xg_important_features[xg_important_features > 0.0015].index)\n",
    "\n",
    "df_xg = df_ft_corr[xg_features + ['TLJYWBE']]\n",
    "print(\"num selected features:\", len(xg_features))\n",
    "df_xg.shape"
   ],
   "id": "e893a47772889443",
   "outputs": [
    {
     "name": "stdout",
     "output_type": "stream",
     "text": [
      "num selected features: 221\n"
     ]
    },
    {
     "data": {
      "text/plain": [
       "(112652, 222)"
      ]
     },
     "execution_count": 21,
     "metadata": {},
     "output_type": "execute_result"
    }
   ],
   "execution_count": 21
  },
  {
   "metadata": {
    "ExecuteTime": {
     "end_time": "2024-08-01T11:42:50.130632Z",
     "start_time": "2024-08-01T11:42:50.048785Z"
    }
   },
   "cell_type": "code",
   "source": [
    "# \"\"\"Feature engineering\"\"\"\n",
    "# from sklearn.preprocessing import PolynomialFeatures\n",
    "# X = df_xg.drop(columns=['TLJYWBE'])\n",
    "# y = df_xg['TLJYWBE']\n",
    "# \n",
    "# # Create polynomial features up to the second degree\n",
    "# poly = PolynomialFeatures(interaction_only=True, include_bias=False)\n",
    "# X_train_poly = poly.fit_transform(X)\n",
    "# feature_names = poly.get_feature_names_out(X.columns)\n",
    "# \n",
    "# df_poly = pd.DataFrame(X_train_poly, columns=feature_names)\n",
    "# df_poly['TLJYWBE'] = y\n",
    "# df_poly.shape\n"
   ],
   "id": "f9d253aacaf2eb8f",
   "outputs": [
    {
     "data": {
      "text/plain": [
       "(112652, 56)"
      ]
     },
     "execution_count": 18,
     "metadata": {},
     "output_type": "execute_result"
    }
   ],
   "execution_count": 18
  },
  {
   "metadata": {},
   "cell_type": "code",
   "source": [
    "\"\"\"obtained by playing around a bit with feature engineering\"\"\"\n",
    "significant_interactions = ['IKMWIOV APJFLOK', 'IKMWIOV KNFIDTO', 'IKMWIOV ACEFRZA',\n",
    "                            'OOASVXJ AIKOJYC', 'AKUNFFN AIKOJYC',\n",
    "                            'IKMWIOV QASZGHA', 'ALKYTAY AIKOJYC', 'IKMWIOV LLZRQRY',\n",
    "                            'FFJOGRA AIKOJYC', 'AIKOJYC ACEFRZA', 'AVSMOFQ AKUNFFN']\n",
    "\n",
    "\"\"\"Feature engineering\"\"\"\n",
    "# from sklearn.preprocessing import PolynomialFeatures\n",
    "# X = df_xg.drop(columns=['TLJYWBE'])\n",
    "# y = df_xg['TLJYWBE']\n",
    "# \n",
    "# # Create polynomial features up to the second degree\n",
    "# poly = PolynomialFeatures(interaction_only=True, include_bias=False)\n",
    "# X_train_poly = poly.fit_transform(X)\n",
    "# feature_names = poly.get_feature_names_out(X.columns)\n",
    "# \n",
    "# df_poly = pd.DataFrame(X_train_poly, columns=feature_names)\n",
    "# df_poly['TLJYWBE'] = y\n",
    "# df_poly.shape\n",
    "\n",
    "df_interact = df_xg.copy()\n",
    "for pair in significant_interactions:\n",
    "    i, j = pair.split()\n",
    "    df_interact[pair] = df_interact[i] * df_interact[j]\n",
    "df_interact.shape"
   ],
   "id": "4c6d07a79ad51c2a",
   "outputs": [],
   "execution_count": null
  },
  {
   "metadata": {},
   "cell_type": "code",
   "source": "df_reduced.shape, df_ft_corr.shape, df_xg.shape, df_interact.shape",
   "id": "75994e6c945a3d0e",
   "outputs": [],
   "execution_count": null
  },
  {
   "metadata": {},
   "cell_type": "code",
   "source": [
    "test_baseline(df_reduced)\n",
    "test_baseline(df_ft_corr)\n",
    "test_baseline(df_xg)\n",
    "test_baseline(df_interact)\n"
   ],
   "id": "acf721950ae93cf5",
   "outputs": [],
   "execution_count": null
  },
  {
   "metadata": {},
   "cell_type": "code",
   "source": [
    "test_xgb(df_reduced)\n",
    "test_xgb(df_ft_corr)\n",
    "test_xgb(df_xg)\n",
    "test_xgb(df_interact)"
   ],
   "id": "d9a40a5f3734eb7a",
   "outputs": [],
   "execution_count": null
  },
  {
   "metadata": {
    "ExecuteTime": {
     "end_time": "2024-08-01T11:46:02.729077Z",
     "start_time": "2024-08-01T11:46:02.724213Z"
    }
   },
   "cell_type": "code",
   "source": [
    "selected_features = ['MSAHYEA', 'DJANPLY', 'LJWUXOV', 'VZOZKWX', 'MRUWBZT', 'DVSZBLN', 'DMTXDGF',\n",
    "                     'SJZKEVZ', 'PRVIFOQ', 'VMWDQGF', 'UNFEABR', 'HKTLMYY', 'XIRNYHK', 'OOASVXJ',\n",
    "                     'FXACWUA', 'KDQUJOB', 'KPQSPBC', 'XEUMIIT', 'DUOKWOI', 'STMKCSJ', 'WLULXFN',\n",
    "                     'AVSMOFQ', 'CNGIUEP', 'LKFNGDB', 'LLZRQRY', 'NYWUAUO', 'LGVRVXB', 'CMSGVTL',\n",
    "                     'EULURHL', 'NSERJIK', 'WGQRBHJ', 'SBUETBP', 'DDGIRQA', 'JIOWSAX', 'EYILHOU',\n",
    "                     'FFJOGRA', 'FPBFOEB', 'JEKQIKE', 'VYTOISY', 'AIKOJYC', 'AHVIXII', 'RTVQHPO',\n",
    "                     'HFYZKSZ', 'YLHQTEA', 'LCAOHWW', 'AWMGPPL', 'IIYLALO', 'SRQKQTX', 'JNEVNAR',\n",
    "                     'HWKCDPO', 'UTGKBXG', 'NIVQSOG', 'TPUASCQ', 'FCMPHJR', 'BYEQVGG', 'LLHXSPF',\n",
    "                     'PDWQQDP', 'LQEHWDR', 'VFXSABJ', 'DTJITAO', 'DAEPCOR', 'OFEEPAC', 'RNKJCEN',\n",
    "                     'AYAJVQL', 'KPZEEJR', 'MOSECGI', 'XLVHGLO', 'DXWRFDA', 'JTIJWNL', 'AKUNFFN',\n",
    "                     'KPXMEBJ', 'GBGZJZO', 'GRBGIZR', 'KNFIDTO', 'UOGNHSF', 'PSXOLCG', 'FAIOOOV',\n",
    "                     'UHMRZHI', 'FBBFYZM', 'SQODRRP', 'NAWMDDT', 'MDBYIRV', 'SPKCFPP', 'BGDAMPC',\n",
    "                     'DANYGJI', 'OXRCIYW', 'IKMWIOV', 'MQXCIBE', 'OOVNYOI', 'LTCKGYN', 'HBQPQTD',\n",
    "                     'SDEUDHY', 'BHSHCHU', 'DDPBVDN', 'JIWJHVI', 'ZRYDRXT', 'GOBJALH', 'LOGULZS',\n",
    "                     'ARVLGNZ', 'MWHYOSB', 'JMFGDPB', 'IHCEXCN', 'GQHLWWM', 'AWJPBPO', 'AGTCLZR',\n",
    "                     'AEXRRBM', 'OGYQNUB', 'APJFLOK', 'GKACPXS', 'JWXNCNT', 'FUTFIRO', 'ENIRWLT',\n",
    "                     'NVBZJEU', 'BGHDMAS', 'TKQUNLP', 'RIEVFEX', 'QASZGHA', 'MRBOALK', 'DNHHKRL',\n",
    "                     'ZKXMWHB', 'SMHHBFH', 'EDASGHM', 'RCJGZLT', 'UZGUYFK', 'LCFCVCB', 'VEUJYWN',\n",
    "                     'IJRFPEK', 'UMJYMGD', 'XWQPLHB', 'ITWTNIT', 'VTMSCPQ', 'DPPXTGF', 'BGPVFMN',\n",
    "                     'KEJOIIS', 'HOVFLAR', 'HIFPGGQ', 'ZYMFJDH', 'WLFAYHX', 'NGVHWDO', 'HCSXZKW',\n",
    "                     'JYSKSPX', 'OKIKPOJ', 'KGJACPV', 'XJJAKPY', 'CWLCCPL', 'HHSFOPV', 'ONKWSSO',\n",
    "                     'GVDVKJH', 'KXISVUL', 'MUEKGHC', 'YCJYNVQ', 'HEBFRRA', 'KYRXYOZ', 'OADGFBJ',\n",
    "                     'MKHJGMF', 'JIMYAME', 'ULYIQYO', 'VPAZKWG', 'BEUAZOI', 'TPYJDFW', 'UXZNNNB',\n",
    "                     'QODSZMV', 'GUEUYTS', 'HSCCVTR', 'LBMUJNZ', 'BQLPPBV', 'RLHGEVY', 'ZCRFMLI',\n",
    "                     'JOJRNMZ', 'IHLMFTI', 'OPBTWFJ', 'NQQYONU', 'ZPBDTHO', 'QWVFRRZ', 'GYFZSXY',\n",
    "                     'POUQMMG', 'FWILIBF', 'ALKYTAY', 'IWHIYNA', 'HPCWOKU', 'NYRKOCF', 'JUMKXBC',\n",
    "                     'LVMHJCI', 'VCPMKTP', 'KUXSPYJ', 'OULTOYT', 'ACVSDTK', 'HCBDBBS', 'RQTEIMY',\n",
    "                     'DTSZUFG', 'JORKKSF', 'CQZHXYY', 'RAGOFAC', 'RIEGYBR', 'NTYHQRF', 'NGIJPET',\n",
    "                     'ZMEJKZD', 'UEIYMWS', 'RSQGZAF', 'TTQVFLL', 'DDZYPGM', 'WBCMBKW', 'VOHXBZJ',\n",
    "                     'UZPPCUZ', 'WTMETCB', 'VRNGUZU', 'PAIOUXI', 'PZYGETW', 'OYSQKAH', 'NMWUWJL',\n",
    "                     'ACEFRZA', 'VXWAKJT', 'CWWUCQG', 'MHLQVAB', 'NDWFVEZ', 'MIIVLBT', 'PPNLAEY',\n",
    "                     'XLHIYUD', 'KBNVGJL', 'UJTXHTS', 'UJYQCMY']"
   ],
   "id": "bd2146914c8f6b4e",
   "outputs": [],
   "execution_count": 24
  },
  {
   "metadata": {},
   "cell_type": "code",
   "outputs": [],
   "execution_count": null,
   "source": [
    "selected_cols = ['MSAHYEA', 'DJANPLY', 'LJWUXOV', 'VZOZKWX', 'MRUWBZT', 'OOASVXJ', 'VMWDQGF',\n",
    "                 'FXACWUA', 'KPQSPBC', 'SJZKEVZ', 'DVSZBLN', 'UNFEABR', 'LLZRQRY', 'HKTLMYY',\n",
    "                 'AVSMOFQ', 'XEUMIIT', 'JORKKSF', 'JEKQIKE', 'KDQUJOB', 'DMTXDGF', 'WLULXFN',\n",
    "                 'SRQKQTX', 'XIRNYHK', 'DUOKWOI', 'NSERJIK', 'AHVIXII', 'CMSGVTL', 'WGQRBHJ',\n",
    "                 'NYWUAUO', 'PHWLHGO', 'LKFNGDB', 'SBUETBP', 'AIKOJYC', 'PSXOLCG', 'RNKJCEN',\n",
    "                 'FPBFOEB', 'UXZNNNB', 'RMVEJRV', 'FFJOGRA', 'DDGIRQA', 'AKUNFFN', 'LTCKGYN',\n",
    "                 'RFVSOEI', 'UTGKBXG', 'GRBGIZR', 'HWKCDPO', 'VTMSCPQ', 'DXWRFDA', 'LTRIIBH',\n",
    "                 'IKMWIOV', 'STMKCSJ', 'OFEEPAC', 'JNEVNAR', 'RCJGZLT', 'WBCMBKW', 'SPKCFPP',\n",
    "                 'LFATORD', 'LCAOHWW', 'NGUTDOX', 'TBFLCFW', 'FUTFIRO', 'VFXSABJ', 'JZQULTU',\n",
    "                 'MKHJGMF', 'NIVQSOG', 'JMFGDPB', 'NAWMDDT', 'JZVNCXT', 'POUQMMG', 'LGVRVXB',\n",
    "                 'HPIXBEZ', 'BGPVFMN', 'BTKTNSN', 'GOBJALH', 'BTXMHGA', 'ZPBDTHO', 'VPAZKWG',\n",
    "                 'BHSHCHU', 'KPZEEJR', 'SYJXQKZ', 'UOGNHSF', 'IHCEXCN', 'XPCRCSI', 'KOESNGG',\n",
    "                 'YLHQTEA', 'AWJPBPO', 'NMWUWJL', 'BUVBEYO', 'HTRZKGZ', 'FWILIBF', 'MQXCIBE',\n",
    "                 'SLHDFLB', 'BGDAMPC', 'UMJYMGD', 'JWXNCNT', 'DNXCPJX', 'DPPXTGF', 'YZRVJSE',\n",
    "                 'MOSECGI', 'PFFFNMW', 'HCSXZKW', 'ZMEJKZD', 'SEWCJZQ', 'RAGOFAC', 'JWFXMKH',\n",
    "                 'HXBFDMA', 'ULYIQYO', 'QVSCEFJ', 'VEOALEL', 'PDWQQDP', 'SQODRRP', 'HPCWOKU',\n",
    "                 'VQGBZBI', 'VYTOISY', 'JIWJHVI', 'NGVHWDO', 'NTYHQRF', 'OXRCIYW', 'LWRFJGT',\n",
    "                 'WJKYEMG', 'LNZGNNA', 'ZDWTEVD', 'APJFLOK', 'NVBZJEU', 'TZNKMJP', 'TNUQMZC',\n",
    "                 'ELDKYEY', 'GYFZSXY', 'BYEQVGG', 'DTSZUFG', 'WFPEMDD', 'XLVHGLO', 'JUMKXBC',\n",
    "                 'KBNVGJL', 'NXXERZE', 'KWGZVQN', 'NTJRVGR', 'DTJITAO', 'OOVNYOI', 'TBGAWDK',\n",
    "                 'CWLCCPL', 'KNFIDTO', 'IROKFNR', 'ARVLGNZ', 'IJRFPEK', 'QASZGHA', 'MIIVLBT',\n",
    "                 'TKNRHFX', 'PJLETFT', 'KFDAVVI', 'OMIIMXP', 'VJNUBJX', 'AYAJVQL', 'RETRSMC',\n",
    "                 'XWQPLHB', 'XLHIYUD', 'QZOMJMJ', 'RIEVFEX', 'PJGXCUT', 'FAIOOOV', 'HIFPGGQ',\n",
    "                 'OYSQKAH', 'RQTEIMY', 'NYRKOCF', 'JHQKHHL', 'KYRXYOZ', 'AWMGPPL', 'NQQYONU',\n",
    "                 'OKMWHQM', 'QEKEIFO', 'MRBOALK', 'PIACHYE', 'OGYQNUB', 'QWVFRRZ', 'BKSGEBR',\n",
    "                 'VSXTBCN', 'UEIYMWS', 'LBMUJNZ', 'LCFCVCB', 'HBCMCGN', 'CWWUCQG', 'WTCICYP',\n",
    "                 'QODSZMV', 'LZBJHYC', 'OPBTWFJ', 'MNNVQLZ', 'TFWEIKV', 'SFGWGSJ', 'WPYBJPG',\n",
    "                 'ETSCGYD', 'ALKYTAY', 'EXAIPZR', 'LOGULZS', 'KOJYJHO', 'INFZDWA', 'RSQGZAF',\n",
    "                 'PCJBMTF', 'UCXNWDN', 'FBBFYZM', 'JIQIQWD', 'IJQUYPU', 'LNWVWPK', 'DCSSZRQ',\n",
    "                 'UWOLTWR', 'OZIVQPW', 'OYSVSFU', 'MOGJHYG', 'EEGYIGX', 'GPSLGET', 'GMLIQMK',\n",
    "                 'LLHXSPF', 'ATSLHPA', 'NFZEWMH', 'KXISVUL', 'HCBDBBS', 'MWHYOSB', 'NGIJPET',\n",
    "                 'GPDXQZO', 'NRKKRBK', 'JTIJWNL', 'TXVCNZC', 'YCWMHMB', 'SMHHBFH', 'AGTCLZR',\n",
    "                 'OULTOYT', 'JZYCXXB', 'VXWAKJT', 'VRNGUZU', 'BGHDMAS', 'QRTDBHR', 'RXLZZHO',\n",
    "                 'TTQVFLL', 'EGJUWUC', 'RTVQHPO', 'ACVSDTK', 'AZLIRWB', 'UPSDFCS', 'YIDCRAN',\n",
    "                 'IPRULOU', 'UJTXHTS', 'YCJYNVQ', 'EEIRTMR', 'FLYIGDN', 'EULURHL', 'GBGZJZO',\n",
    "                 'UDQKCAP', 'PAIOUXI', 'PPNLAEY', 'ACEFRZA', 'EDASGHM', 'GJJABFU', 'ETXKSTM',\n",
    "                 'UAEETIT', 'INLEXOC', 'MSWILHL', 'ONKWSSO', 'WVGOOTV', 'PUYNKTQ', 'WCHWYUP',\n",
    "                 'ZZTPIJA', 'CZUZJKN', 'QJXZQSD', 'UJYQCMY', 'SOLTBDE', 'AUESMVQ', 'OADGFBJ',\n",
    "                 'MAFPSTX', 'RLYWHCU', 'UZGUYFK', 'HJVHTYM', 'WBBKQFH', 'IFZDTPK', 'JYSKSPX',\n",
    "                 'VCPMKTP', 'VOYPYYV', 'SMRUUUS', 'MLKBLNF', 'LGXZTHS', 'JULDEHH', 'OOXHPWM',\n",
    "                 'KUXSPYJ', 'REAKUIZ', 'XKEMMHR', 'FMPLUQF', 'KPXMEBJ', 'OLNLGZK', 'QSQCEMO',\n",
    "                 'NOLZTQY', 'RRMMRAJ', 'AEXRRBM', 'PLSHZWK', 'JIOWSAX', 'VEUJYWN', 'TLJYWBE']"
   ],
   "id": "42aa3c4263ce6b69"
  }
 ],
 "metadata": {
  "kernelspec": {
   "display_name": "Python 3",
   "language": "python",
   "name": "python3"
  },
  "language_info": {
   "codemirror_mode": {
    "name": "ipython",
    "version": 2
   },
   "file_extension": ".py",
   "mimetype": "text/x-python",
   "name": "python",
   "nbconvert_exporter": "python",
   "pygments_lexer": "ipython2",
   "version": "2.7.6"
  }
 },
 "nbformat": 4,
 "nbformat_minor": 5
}
